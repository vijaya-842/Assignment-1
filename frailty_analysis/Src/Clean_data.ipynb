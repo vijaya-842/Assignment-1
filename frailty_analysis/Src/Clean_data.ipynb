{
  "nbformat": 4,
  "nbformat_minor": 0,
  "metadata": {
    "colab": {
      "provenance": []
    },
    "kernelspec": {
      "name": "python3",
      "display_name": "Python 3"
    },
    "language_info": {
      "name": "python"
    }
  },
  "cells": [
    {
      "cell_type": "code",
      "source": [
        "import pandas as pd\n",
        "\n",
        "# Creating the dataset from the provided data\n",
        "data = {\n",
        "    'Height (in)': [65.8, 71.5, 69.4, 68.2, 67.8, 68.7, 69.8, 70.1, 67.9, 66.8],\n",
        "    'Weight (lbs)': [112, 136, 153, 142, 144, 123, 141, 136, 112, 120],\n",
        "    'Age (years)': [30, 19, 45, 22, 29, 50, 51, 23, 17, 39],\n",
        "    'Grip Strength (kg)': [30, 31, 29, 28, 24, 26, 22, 20, 19, 31],\n",
        "    'Frailty (Y/N)': ['N', 'N', 'N', 'Y', 'Y', 'N', 'Y', 'Y', 'N', 'N']\n",
        "}\n",
        "\n",
        "# Converting to DataFrame\n",
        "df = pd.DataFrame(data)\n",
        "\n",
        "# Checking for missing values\n",
        "missing_values = df.isnull().sum()\n",
        "print(missing_values)\n",
        "\n",
        "# Converting Frailty (Y/N) to binary (1 for Y, 0 for N)\n",
        "df['Frailty (Y/N)'] = df['Frailty (Y/N)'].apply(lambda x: 1 if x == 'Y' else 0)\n",
        "\n",
        "# Checking for outliers in Grip Strength using the IQR method\n",
        "Q1 = df['Grip Strength (kg)'].quantile(0.25)\n",
        "Q3 = df['Grip Strength (kg)'].quantile(0.75)\n",
        "IQR = Q3 - Q1\n",
        "lower_bound = Q1 - 1.5 * IQR\n",
        "upper_bound = Q3 + 1.5 * IQR\n",
        "\n",
        "# Flagging any outliers in grip strength\n",
        "outliers = df[(df['Grip Strength (kg)'] < lower_bound) | (df['Grip Strength (kg)'] > upper_bound)]\n",
        "print(df)\n",
        "\n",
        "#Saving the cleaned data to a csv file\n",
        "df.to_csv('cleaned_frailty_data.csv', index=False)\n",
        "print(\"File downloaded successfully\")"
      ],
      "metadata": {
        "colab": {
          "base_uri": "https://localhost:8080/"
        },
        "id": "oUTIw9-cJrXJ",
        "outputId": "386d6265-f235-435f-f928-25c3b479e584"
      },
      "execution_count": 4,
      "outputs": [
        {
          "output_type": "stream",
          "name": "stdout",
          "text": [
            "Height (in)           0\n",
            "Weight (lbs)          0\n",
            "Age (years)           0\n",
            "Grip Strength (kg)    0\n",
            "Frailty (Y/N)         0\n",
            "dtype: int64\n",
            "   Height (in)  Weight (lbs)  Age (years)  Grip Strength (kg)  Frailty (Y/N)\n",
            "0         65.8           112           30                  30              0\n",
            "1         71.5           136           19                  31              0\n",
            "2         69.4           153           45                  29              0\n",
            "3         68.2           142           22                  28              1\n",
            "4         67.8           144           29                  24              1\n",
            "5         68.7           123           50                  26              0\n",
            "6         69.8           141           51                  22              1\n",
            "7         70.1           136           23                  20              1\n",
            "8         67.9           112           17                  19              0\n",
            "9         66.8           120           39                  31              0\n",
            "File downloaded successfully\n"
          ]
        }
      ]
    }
  ]
}